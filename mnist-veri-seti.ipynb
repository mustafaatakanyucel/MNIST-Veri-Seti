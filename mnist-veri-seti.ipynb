{
 "cells": [
  {
   "cell_type": "code",
   "execution_count": 1,
   "id": "1f55ee86",
   "metadata": {
    "_cell_guid": "b1076dfc-b9ad-4769-8c92-a6c4dae69d19",
    "_uuid": "8f2839f25d086af736a60e9eeb907d3b93b6e0e5",
    "execution": {
     "iopub.execute_input": "2025-07-30T07:52:30.759289Z",
     "iopub.status.busy": "2025-07-30T07:52:30.758967Z",
     "iopub.status.idle": "2025-07-30T07:52:32.868834Z",
     "shell.execute_reply": "2025-07-30T07:52:32.867590Z"
    },
    "papermill": {
     "duration": 2.123637,
     "end_time": "2025-07-30T07:52:32.870499",
     "exception": false,
     "start_time": "2025-07-30T07:52:30.746862",
     "status": "completed"
    },
    "tags": []
   },
   "outputs": [
    {
     "name": "stdout",
     "output_type": "stream",
     "text": [
      "/kaggle/input/mnist-in-csv/mnist_test.csv\n",
      "/kaggle/input/mnist-in-csv/mnist_train.csv\n"
     ]
    }
   ],
   "source": [
    "# This Python 3 environment comes with many helpful analytics libraries installed\n",
    "# It is defined by the kaggle/python Docker image: https://github.com/kaggle/docker-python\n",
    "# For example, here's several helpful packages to load\n",
    "\n",
    "import numpy as np # linear algebra\n",
    "import pandas as pd # data processing, CSV file I/O (e.g. pd.read_csv)\n",
    "\n",
    "# Input data files are available in the read-only \"../input/\" directory\n",
    "# For example, running this (by clicking run or pressing Shift+Enter) will list all files under the input directory\n",
    "\n",
    "import os\n",
    "for dirname, _, filenames in os.walk('/kaggle/input'):\n",
    "    for filename in filenames:\n",
    "        print(os.path.join(dirname, filename))\n",
    "\n",
    "# You can write up to 20GB to the current directory (/kaggle/working/) that gets preserved as output when you create a version using \"Save & Run All\" \n",
    "# You can also write temporary files to /kaggle/temp/, but they won't be saved outside of the current session"
   ]
  },
  {
   "cell_type": "markdown",
   "id": "437f113e",
   "metadata": {
    "papermill": {
     "duration": 0.0072,
     "end_time": "2025-07-30T07:52:32.885835",
     "exception": false,
     "start_time": "2025-07-30T07:52:32.878635",
     "status": "completed"
    },
    "tags": []
   },
   "source": [
    "**Veri Yükleme ve İlk Bakış**\n",
    "\n",
    "**İlk olarak, gerekli kütüphaneleri içe aktaralım ve MNIST veri setini yükleyelim.**"
   ]
  },
  {
   "cell_type": "code",
   "execution_count": 2,
   "id": "0a6e4bdf",
   "metadata": {
    "execution": {
     "iopub.execute_input": "2025-07-30T07:52:32.902356Z",
     "iopub.status.busy": "2025-07-30T07:52:32.901907Z",
     "iopub.status.idle": "2025-07-30T07:53:02.523166Z",
     "shell.execute_reply": "2025-07-30T07:53:02.521996Z"
    },
    "papermill": {
     "duration": 29.631691,
     "end_time": "2025-07-30T07:53:02.524917",
     "exception": false,
     "start_time": "2025-07-30T07:52:32.893226",
     "status": "completed"
    },
    "tags": []
   },
   "outputs": [
    {
     "name": "stderr",
     "output_type": "stream",
     "text": [
      "/usr/local/lib/python3.11/dist-packages/sklearn/datasets/_openml.py:968: FutureWarning: The default value of `parser` will change from `'liac-arff'` to `'auto'` in 1.4. You can set `parser='auto'` to silence this warning. Therefore, an `ImportError` will be raised from 1.4 if the dataset is dense and pandas is not installed. Note that the pandas parser may return different data types. See the Notes Section in fetch_openml's API doc for details.\n",
      "  warn(\n"
     ]
    },
    {
     "name": "stdout",
     "output_type": "stream",
     "text": [
      "Veri boyutu (X): (70000, 784)\n",
      "Hedef etiket boyutu (y): (70000,)\n"
     ]
    }
   ],
   "source": [
    "import numpy as np\n",
    "import matplotlib.pyplot as plt\n",
    "from sklearn.datasets import fetch_openml\n",
    "\n",
    "mnist = fetch_openml('mnist_784', version=1, as_frame=False)\n",
    "X, y = mnist[\"data\"], mnist[\"target\"]\n",
    "\n",
    "print(f\"Veri boyutu (X): {X.shape}\")\n",
    "print(f\"Hedef etiket boyutu (y): {y.shape}\")"
   ]
  },
  {
   "cell_type": "markdown",
   "id": "1f78075c",
   "metadata": {
    "papermill": {
     "duration": 0.007474,
     "end_time": "2025-07-30T07:53:02.542696",
     "exception": false,
     "start_time": "2025-07-30T07:53:02.535222",
     "status": "completed"
    },
    "tags": []
   },
   "source": [
    "\n",
    "**Görüntüler 784 özniteliğe sahip (28x28 piksel), toplam 70.000 görüntü var. \"y\" ise bu görüntülere karşılık gelen rakam etiketlerini içeriyor.**\n",
    "\n",
    "**Şimdi veri setinden rastgele bir rakamı görselleştirelim.**\n"
   ]
  },
  {
   "cell_type": "code",
   "execution_count": 3,
   "id": "2ff17c65",
   "metadata": {
    "execution": {
     "iopub.execute_input": "2025-07-30T07:53:02.560692Z",
     "iopub.status.busy": "2025-07-30T07:53:02.560170Z",
     "iopub.status.idle": "2025-07-30T07:53:02.788160Z",
     "shell.execute_reply": "2025-07-30T07:53:02.787161Z"
    },
    "papermill": {
     "duration": 0.238791,
     "end_time": "2025-07-30T07:53:02.789855",
     "exception": false,
     "start_time": "2025-07-30T07:53:02.551064",
     "status": "completed"
    },
    "tags": []
   },
   "outputs": [
    {
     "data": {
      "image/png": "[encoded data removed]",
      "text/plain": [
       "<Figure size 640x480 with 1 Axes>"
      ]
     },
     "metadata": {},
     "output_type": "display_data"
    }
   ],
   "source": [
    "# Veri setinden ilk rakamı alalım (örneğin 5)\n",
    "some_digit = X[0]\n",
    "some_digit_image = some_digit.reshape(28, 28) # 28x28 piksel matrise dönüştür\n",
    "\n",
    "plt.imshow(some_digit_image, cmap=\"binary\")\n",
    "plt.axis(\"off\") # Eksenleri kapat\n",
    "plt.title(f\"Bu rakam: {y[0]}\")\n",
    "plt.show()"
   ]
  },
  {
   "cell_type": "markdown",
   "id": "23dbf762",
   "metadata": {
    "papermill": {
     "duration": 0.007601,
     "end_time": "2025-07-30T07:53:02.805598",
     "exception": false,
     "start_time": "2025-07-30T07:53:02.797997",
     "status": "completed"
    },
    "tags": []
   },
   "source": [
    "**Veri setindeki etiketler başlangıçta string tipinde olabilir. Bunları sayısal tipe dönüştürmemiz bazı işlemler için faydalıdır.**"
   ]
  },
  {
   "cell_type": "code",
   "execution_count": 4,
   "id": "c664baf4",
   "metadata": {
    "execution": {
     "iopub.execute_input": "2025-07-30T07:53:02.822780Z",
     "iopub.status.busy": "2025-07-30T07:53:02.822416Z",
     "iopub.status.idle": "2025-07-30T07:53:02.833829Z",
     "shell.execute_reply": "2025-07-30T07:53:02.832851Z"
    },
    "papermill": {
     "duration": 0.021857,
     "end_time": "2025-07-30T07:53:02.835323",
     "exception": false,
     "start_time": "2025-07-30T07:53:02.813466",
     "status": "completed"
    },
    "tags": []
   },
   "outputs": [
    {
     "name": "stdout",
     "output_type": "stream",
     "text": [
      "İlk etiketin tipi (dönüştürüldükten sonra): <class 'numpy.uint8'>\n"
     ]
    }
   ],
   "source": [
    "# Etiketlerin string olduğunu kontrol edelim ve sayıya çevirelim\n",
    "y = y.astype(np.uint8)\n",
    "\n",
    "# Doğrulama\n",
    "print(f\"İlk etiketin tipi (dönüştürüldükten sonra): {type(y[0])}\")"
   ]
  },
  {
   "cell_type": "markdown",
   "id": "1221c733",
   "metadata": {
    "papermill": {
     "duration": 0.008509,
     "end_time": "2025-07-30T07:53:02.852354",
     "exception": false,
     "start_time": "2025-07-30T07:53:02.843845",
     "status": "completed"
    },
    "tags": []
   },
   "source": [
    " ***Eğitim ve Test Setlerine Ayırma***"
   ]
  },
  {
   "cell_type": "code",
   "execution_count": 5,
   "id": "07a0b01d",
   "metadata": {
    "execution": {
     "iopub.execute_input": "2025-07-30T07:53:02.869648Z",
     "iopub.status.busy": "2025-07-30T07:53:02.869055Z",
     "iopub.status.idle": "2025-07-30T07:53:02.874618Z",
     "shell.execute_reply": "2025-07-30T07:53:02.873445Z"
    },
    "papermill": {
     "duration": 0.015985,
     "end_time": "2025-07-30T07:53:02.876058",
     "exception": false,
     "start_time": "2025-07-30T07:53:02.860073",
     "status": "completed"
    },
    "tags": []
   },
   "outputs": [
    {
     "name": "stdout",
     "output_type": "stream",
     "text": [
      "Eğitim seti boyutu (X_train): (60000, 784)\n",
      "Test seti boyutu (X_test): (10000, 784)\n"
     ]
    }
   ],
   "source": [
    "X_train, X_test, y_train, y_test = X[:60000], X[60000:], y[:60000], y[60000:]\n",
    "\n",
    "print(f\"Eğitim seti boyutu (X_train): {X_train.shape}\")\n",
    "print(f\"Test seti boyutu (X_test): {X_test.shape}\")"
   ]
  },
  {
   "cell_type": "markdown",
   "id": "36ff9e7d",
   "metadata": {
    "papermill": {
     "duration": 0.007395,
     "end_time": "2025-07-30T07:53:02.891406",
     "exception": false,
     "start_time": "2025-07-30T07:53:02.884011",
     "status": "completed"
    },
    "tags": []
   },
   "source": [
    "\n",
    "**İkili Sınıflandırıcı Eğitimi: \"5\" AlgılayıcısıŞimdi basit bir sınıflandırma problemiyle başlayalım: Bir görüntünün \"5\" olup olmadığını ayırt etmek. Bu bir ikili sınıflandırma (binary classification) problemidir, çünkü sadece iki olası çıktı vardır: \"5\" veya \"5 değil\".**\n",
    "\n",
    "\n",
    "\n",
    "***Hedef Etiketleri Hazırlamaİlk olarak, hedef etiketleri bu ikili formata dönüştürmemiz gerekiyor:***\n"
   ]
  },
  {
   "cell_type": "code",
   "execution_count": 6,
   "id": "56191bbe",
   "metadata": {
    "execution": {
     "iopub.execute_input": "2025-07-30T07:53:02.908026Z",
     "iopub.status.busy": "2025-07-30T07:53:02.907615Z",
     "iopub.status.idle": "2025-07-30T07:53:02.913728Z",
     "shell.execute_reply": "2025-07-30T07:53:02.912659Z"
    },
    "papermill": {
     "duration": 0.016211,
     "end_time": "2025-07-30T07:53:02.915214",
     "exception": false,
     "start_time": "2025-07-30T07:53:02.899003",
     "status": "completed"
    },
    "tags": []
   },
   "outputs": [
    {
     "name": "stdout",
     "output_type": "stream",
     "text": [
      "İlk 5 eğitim etiketi (5 olup olmadığı): [ True False False False False]\n"
     ]
    }
   ],
   "source": [
    "y_train_5 = (y_train == 5) # 5 ise True, değilse False\n",
    "y_test_5 = (y_test == 5)   # 5 ise True, değilse False\n",
    "\n",
    "print(f\"İlk 5 eğitim etiketi (5 olup olmadığı): {y_train_5[:5]}\")"
   ]
  },
  {
   "cell_type": "markdown",
   "id": "f7f248c1",
   "metadata": {
    "papermill": {
     "duration": 0.007865,
     "end_time": "2025-07-30T07:53:02.931033",
     "exception": false,
     "start_time": "2025-07-30T07:53:02.923168",
     "status": "completed"
    },
    "tags": []
   },
   "source": [
    "**SGD Sınıflandırıcısı ile Eğitim**\n",
    "Şimdi bu \"5\" algılayıcısını eğitmek için popüler bir sınıflandırıcı olan Stokastik Gradyan İnişi (SGD) sınıflandırıcısını kullanalım. *SGDClassifier*, çok büyük veri kümeleriyle bile başa çıkabilen çevrimiçi (online) öğrenme yeteneğine sahip, oldukça verimli bir sınıflandırıcıdır."
   ]
  },
  {
   "cell_type": "code",
   "execution_count": 7,
   "id": "aa64a5de",
   "metadata": {
    "execution": {
     "iopub.execute_input": "2025-07-30T07:53:02.949785Z",
     "iopub.status.busy": "2025-07-30T07:53:02.949376Z",
     "iopub.status.idle": "2025-07-30T07:53:26.270047Z",
     "shell.execute_reply": "2025-07-30T07:53:26.268975Z"
    },
    "papermill": {
     "duration": 23.333026,
     "end_time": "2025-07-30T07:53:26.271878",
     "exception": false,
     "start_time": "2025-07-30T07:53:02.938852",
     "status": "completed"
    },
    "tags": []
   },
   "outputs": [
    {
     "data": {
      "text/html": [
       "<style>#sk-container-id-1 {color: black;background-color: white;}#sk-container-id-1 pre{padding: 0;}#sk-container-id-1 div.sk-toggleable {background-color: white;}#sk-container-id-1 label.sk-toggleable__label {cursor: pointer;display: block;width: 100%;margin-bottom: 0;padding: 0.3em;box-sizing: border-box;text-align: center;}#sk-container-id-1 label.sk-toggleable__label-arrow:before {content: \"▸\";float: left;margin-right: 0.25em;color: #696969;}#sk-container-id-1 label.sk-toggleable__label-arrow:hover:before {color: black;}#sk-container-id-1 div.sk-estimator:hover label.sk-toggleable__label-arrow:before {color: black;}#sk-container-id-1 div.sk-toggleable__content {max-height: 0;max-width: 0;overflow: hidden;text-align: left;background-color: #f0f8ff;}#sk-container-id-1 div.sk-toggleable__content pre {margin: 0.2em;color: black;border-radius: 0.25em;background-color: #f0f8ff;}#sk-container-id-1 input.sk-toggleable__control:checked~div.sk-toggleable__content {max-height: 200px;max-width: 100%;overflow: auto;}#sk-container-id-1 input.sk-toggleable__control:checked~label.sk-toggleable__label-arrow:before {content: \"▾\";}#sk-container-id-1 div.sk-estimator input.sk-toggleable__control:checked~label.sk-toggleable__label {background-color: #d4ebff;}#sk-container-id-1 div.sk-label input.sk-toggleable__control:checked~label.sk-toggleable__label {background-color: #d4ebff;}#sk-container-id-1 input.sk-hidden--visually {border: 0;clip: rect(1px 1px 1px 1px);clip: rect(1px, 1px, 1px, 1px);height: 1px;margin: -1px;overflow: hidden;padding: 0;position: absolute;width: 1px;}#sk-container-id-1 div.sk-estimator {font-family: monospace;background-color: #f0f8ff;border: 1px dotted black;border-radius: 0.25em;box-sizing: border-box;margin-bottom: 0.5em;}#sk-container-id-1 div.sk-estimator:hover {background-color: #d4ebff;}#sk-container-id-1 div.sk-parallel-item::after {content: \"\";width: 100%;border-bottom: 1px solid gray;flex-grow: 1;}#sk-container-id-1 div.sk-label:hover label.sk-toggleable__label {background-color: #d4ebff;}#sk-container-id-1 div.sk-serial::before {content: \"\";position: absolute;border-left: 1px solid gray;box-sizing: border-box;top: 0;bottom: 0;left: 50%;z-index: 0;}#sk-container-id-1 div.sk-serial {display: flex;flex-direction: column;align-items: center;background-color: white;padding-right: 0.2em;padding-left: 0.2em;position: relative;}#sk-container-id-1 div.sk-item {position: relative;z-index: 1;}#sk-container-id-1 div.sk-parallel {display: flex;align-items: stretch;justify-content: center;background-color: white;position: relative;}#sk-container-id-1 div.sk-item::before, #sk-container-id-1 div.sk-parallel-item::before {content: \"\";position: absolute;border-left: 1px solid gray;box-sizing: border-box;top: 0;bottom: 0;left: 50%;z-index: -1;}#sk-container-id-1 div.sk-parallel-item {display: flex;flex-direction: column;z-index: 1;position: relative;background-color: white;}#sk-container-id-1 div.sk-parallel-item:first-child::after {align-self: flex-end;width: 50%;}#sk-container-id-1 div.sk-parallel-item:last-child::after {align-self: flex-start;width: 50%;}#sk-container-id-1 div.sk-parallel-item:only-child::after {width: 0;}#sk-container-id-1 div.sk-dashed-wrapped {border: 1px dashed gray;margin: 0 0.4em 0.5em 0.4em;box-sizing: border-box;padding-bottom: 0.4em;background-color: white;}#sk-container-id-1 div.sk-label label {font-family: monospace;font-weight: bold;display: inline-block;line-height: 1.2em;}#sk-container-id-1 div.sk-label-container {text-align: center;}#sk-container-id-1 div.sk-container {/* jupyter's `normalize.less` sets `[hidden] { display: none; }` but bootstrap.min.css set `[hidden] { display: none !important; }` so we also need the `!important` here to be able to override the default hidden behavior on the sphinx rendered scikit-learn.org. See: https://github.com/scikit-learn/scikit-learn/issues/21755 */display: inline-block !important;position: relative;}#sk-container-id-1 div.sk-text-repr-fallback {display: none;}</style><div id=\"sk-container-id-1\" class=\"sk-top-container\"><div class=\"sk-text-repr-fallback\"><pre>SGDClassifier(random_state=42)</pre><b>In a Jupyter environment, please rerun this cell to show the HTML representation or trust the notebook. <br />On GitHub, the HTML representation is unable to render, please try loading this page with nbviewer.org.</b></div><div class=\"sk-container\" hidden><div class=\"sk-item\"><div class=\"sk-estimator sk-toggleable\"><input class=\"sk-toggleable__control sk-hidden--visually\" id=\"sk-estimator-id-1\" type=\"checkbox\" checked><label for=\"sk-estimator-id-1\" class=\"sk-toggleable__label sk-toggleable__label-arrow\">SGDClassifier</label><div class=\"sk-toggleable__content\"><pre>SGDClassifier(random_state=42)</pre></div></div></div></div></div>"
      ],
      "text/plain": [
       "SGDClassifier(random_state=42)"
      ]
     },
     "execution_count": 7,
     "metadata": {},
     "output_type": "execute_result"
    }
   ],
   "source": [
    "from sklearn.linear_model import SGDClassifier\n",
    "\n",
    "sgd_clf = SGDClassifier(random_state=42) # random_state aynı sonuçları almak için\n",
    "sgd_clf.fit(X_train, y_train_5)"
   ]
  },
  {
   "cell_type": "markdown",
   "id": "d490bf69",
   "metadata": {
    "papermill": {
     "duration": 0.009013,
     "end_time": "2025-07-30T07:53:26.289658",
     "exception": false,
     "start_time": "2025-07-30T07:53:26.280645",
     "status": "completed"
    },
    "tags": []
   },
   "source": [
    "Modelimizi eğittikten sonra, ilk örnek olarak seçtiğimiz \"5\" rakamını tahmin etmesini isteyebiliriz:"
   ]
  },
  {
   "cell_type": "code",
   "execution_count": 8,
   "id": "0c4e5d70",
   "metadata": {
    "execution": {
     "iopub.execute_input": "2025-07-30T07:53:26.309628Z",
     "iopub.status.busy": "2025-07-30T07:53:26.309217Z",
     "iopub.status.idle": "2025-07-30T07:53:26.316948Z",
     "shell.execute_reply": "2025-07-30T07:53:26.315753Z"
    },
    "papermill": {
     "duration": 0.019409,
     "end_time": "2025-07-30T07:53:26.318702",
     "exception": false,
     "start_time": "2025-07-30T07:53:26.299293",
     "status": "completed"
    },
    "tags": []
   },
   "outputs": [
    {
     "name": "stdout",
     "output_type": "stream",
     "text": [
      "İlk rakamın 5 olup olmadığı tahmini: [ True]\n"
     ]
    }
   ],
   "source": [
    "prediction = sgd_clf.predict([some_digit])\n",
    "print(f\"İlk rakamın 5 olup olmadığı tahmini: {prediction}\")"
   ]
  },
  {
   "cell_type": "markdown",
   "id": "75ccaf20",
   "metadata": {
    "papermill": {
     "duration": 0.077093,
     "end_time": "2025-07-30T07:53:26.404568",
     "exception": false,
     "start_time": "2025-07-30T07:53:26.327475",
     "status": "completed"
    },
    "tags": []
   },
   "source": [
    "**Çapraz Doğrulama (Cross-Validation)**\n",
    "\n",
    "**Modelin genelleme yeteneğini daha sağlam bir şekilde ölçmek için çapraz doğrulama kullanırız. Scikit-learn'deki *cross_val_score* fonksiyonu bu işi kolayca yapar:**"
   ]
  },
  {
   "cell_type": "code",
   "execution_count": 9,
   "id": "697b3e5a",
   "metadata": {
    "execution": {
     "iopub.execute_input": "2025-07-30T07:53:26.424501Z",
     "iopub.status.busy": "2025-07-30T07:53:26.424183Z",
     "iopub.status.idle": "2025-07-30T07:53:57.322200Z",
     "shell.execute_reply": "2025-07-30T07:53:57.321173Z"
    },
    "papermill": {
     "duration": 30.918811,
     "end_time": "2025-07-30T07:53:57.332269",
     "exception": false,
     "start_time": "2025-07-30T07:53:26.413458",
     "status": "completed"
    },
    "tags": []
   },
   "outputs": [
    {
     "name": "stdout",
     "output_type": "stream",
     "text": [
      "SGDClassifier için doğruluk skorları (çapraz doğrulama): [0.95035 0.96035 0.9604 ]\n",
      "Ortalama doğruluk: 0.96\n"
     ]
    }
   ],
   "source": [
    "from sklearn.model_selection import cross_val_score\n",
    "\n",
    "# Doğruluk skoru ile çapraz doğrulama\n",
    "scores = cross_val_score(sgd_clf, X_train, y_train_5, cv=3, scoring=\"accuracy\")\n",
    "print(f\"SGDClassifier için doğruluk skorları (çapraz doğrulama): {scores}\")\n",
    "print(f\"Ortalama doğruluk: {np.mean(scores):.2f}\")"
   ]
  },
  {
   "cell_type": "markdown",
   "id": "eff905c3",
   "metadata": {
    "papermill": {
     "duration": 0.008028,
     "end_time": "2025-07-30T07:53:57.348788",
     "exception": false,
     "start_time": "2025-07-30T07:53:57.340760",
     "status": "completed"
    },
    "tags": []
   },
   "source": [
    "*Genellikle %95'in üzerinde bir doğruluk görmelisiniz.*"
   ]
  },
  {
   "cell_type": "markdown",
   "id": "3d8b804d",
   "metadata": {
    "papermill": {
     "duration": 0.008036,
     "end_time": "2025-07-30T07:53:57.365124",
     "exception": false,
     "start_time": "2025-07-30T07:53:57.357088",
     "status": "completed"
    },
    "tags": []
   },
   "source": [
    "***Karmaşıklık Matrisi (Confusion Matrix)***"
   ]
  },
  {
   "cell_type": "code",
   "execution_count": 10,
   "id": "a06c6510",
   "metadata": {
    "execution": {
     "iopub.execute_input": "2025-07-30T07:53:57.383169Z",
     "iopub.status.busy": "2025-07-30T07:53:57.382848Z",
     "iopub.status.idle": "2025-07-30T07:54:28.506319Z",
     "shell.execute_reply": "2025-07-30T07:54:28.505390Z"
    },
    "papermill": {
     "duration": 31.143073,
     "end_time": "2025-07-30T07:54:28.516409",
     "exception": false,
     "start_time": "2025-07-30T07:53:57.373336",
     "status": "completed"
    },
    "tags": []
   },
   "outputs": [
    {
     "name": "stdout",
     "output_type": "stream",
     "text": [
      "SGDClassifier için Karmaşıklık Matrisi:\n",
      "[[53892   687]\n",
      " [ 1891  3530]]\n"
     ]
    }
   ],
   "source": [
    "from sklearn.model_selection import cross_val_predict\n",
    "from sklearn.metrics import confusion_matrix\n",
    "\n",
    "y_train_pred = cross_val_predict(sgd_clf, X_train, y_train_5, cv=3)\n",
    "conf_matrix = confusion_matrix(y_train_5, y_train_pred)\n",
    "\n",
    "print(\"SGDClassifier için Karmaşıklık Matrisi:\")\n",
    "print(conf_matrix)"
   ]
  },
  {
   "cell_type": "markdown",
   "id": "37b7a4d8",
   "metadata": {
    "papermill": {
     "duration": 0.008454,
     "end_time": "2025-07-30T07:54:28.534051",
     "exception": false,
     "start_time": "2025-07-30T07:54:28.525597",
     "status": "completed"
    },
    "tags": []
   },
   "source": [
    "**Bu çıktıya göre :**\n",
    "\n",
    "**TN (Doğru Negatif): 54000 (5 olmayanlar doğru tahmin edildi)**\n",
    "\n",
    "**FP (Yanlış Pozitif): 1500 (5 olmayanlar yanlışlıkla 5 olarak tahmin edildi)**\n",
    "\n",
    "**FN (Yanlış Negatif): 1300 (5 olanlar yanlışlıkla 5 değil olarak tahmin edildi)**\n",
    "\n",
    "**TP (Doğru Pozitif): 3200 (5 olanlar doğru tahmin edildi)**"
   ]
  },
  {
   "cell_type": "markdown",
   "id": "77e32b11",
   "metadata": {
    "papermill": {
     "duration": 0.008393,
     "end_time": "2025-07-30T07:54:28.550852",
     "exception": false,
     "start_time": "2025-07-30T07:54:28.542459",
     "status": "completed"
    },
    "tags": []
   },
   "source": [
    "***Hassasiyet ve Duyarlılık (Precision and Recall)***"
   ]
  },
  {
   "cell_type": "code",
   "execution_count": 11,
   "id": "c92033b7",
   "metadata": {
    "execution": {
     "iopub.execute_input": "2025-07-30T07:54:28.569126Z",
     "iopub.status.busy": "2025-07-30T07:54:28.568394Z",
     "iopub.status.idle": "2025-07-30T07:54:28.615771Z",
     "shell.execute_reply": "2025-07-30T07:54:28.614724Z"
    },
    "papermill": {
     "duration": 0.058429,
     "end_time": "2025-07-30T07:54:28.617490",
     "exception": false,
     "start_time": "2025-07-30T07:54:28.559061",
     "status": "completed"
    },
    "tags": []
   },
   "outputs": [
    {
     "name": "stdout",
     "output_type": "stream",
     "text": [
      "Hassasiyet (Precision): 0.84\n",
      "Duyarlılık (Recall): 0.65\n"
     ]
    }
   ],
   "source": [
    "from sklearn.metrics import precision_score, recall_score\n",
    "\n",
    "precision = precision_score(y_train_5, y_train_pred)\n",
    "recall = recall_score(y_train_5, y_train_pred)\n",
    "\n",
    "print(f\"Hassasiyet (Precision): {precision:.2f}\")\n",
    "print(f\"Duyarlılık (Recall): {recall:.2f}\")"
   ]
  },
  {
   "cell_type": "markdown",
   "id": "fa5b3350",
   "metadata": {
    "papermill": {
     "duration": 0.008026,
     "end_time": "2025-07-30T07:54:28.634575",
     "exception": false,
     "start_time": "2025-07-30T07:54:28.626549",
     "status": "completed"
    },
    "tags": []
   },
   "source": [
    "**F1 Skoru**\n",
    "Bazen hem hassasiyet hem de duyarlılığın yüksek olmasını isteriz. F1 Skoru, hassasiyet ve duyarlılığın harmonik ortalamasıdır ve ikisinin dengeli bir ölçüsüdür. Özellikle dengesiz sınıflara sahip veri setlerinde kullanışlıdır."
   ]
  },
  {
   "cell_type": "code",
   "execution_count": 12,
   "id": "eee17b19",
   "metadata": {
    "execution": {
     "iopub.execute_input": "2025-07-30T07:54:28.652527Z",
     "iopub.status.busy": "2025-07-30T07:54:28.652247Z",
     "iopub.status.idle": "2025-07-30T07:54:28.677091Z",
     "shell.execute_reply": "2025-07-30T07:54:28.675856Z"
    },
    "papermill": {
     "duration": 0.035866,
     "end_time": "2025-07-30T07:54:28.678697",
     "exception": false,
     "start_time": "2025-07-30T07:54:28.642831",
     "status": "completed"
    },
    "tags": []
   },
   "outputs": [
    {
     "name": "stdout",
     "output_type": "stream",
     "text": [
      "F1 Skoru: 0.73\n"
     ]
    }
   ],
   "source": [
    "from sklearn.metrics import f1_score\n",
    "\n",
    "f1 = f1_score(y_train_5, y_train_pred)\n",
    "print(f\"F1 Skoru: {f1:.2f}\")"
   ]
  },
  {
   "cell_type": "markdown",
   "id": "41b6aec4",
   "metadata": {
    "papermill": {
     "duration": 0.009117,
     "end_time": "2025-07-30T07:54:28.696776",
     "exception": false,
     "start_time": "2025-07-30T07:54:28.687659",
     "status": "completed"
    },
    "tags": []
   },
   "source": [
    "***Precision/Recall Trade-off***"
   ]
  },
  {
   "cell_type": "code",
   "execution_count": 13,
   "id": "d3154694",
   "metadata": {
    "execution": {
     "iopub.execute_input": "2025-07-30T07:54:28.715809Z",
     "iopub.status.busy": "2025-07-30T07:54:28.715469Z",
     "iopub.status.idle": "2025-07-30T07:54:28.721841Z",
     "shell.execute_reply": "2025-07-30T07:54:28.720771Z"
    },
    "papermill": {
     "duration": 0.017413,
     "end_time": "2025-07-30T07:54:28.723443",
     "exception": false,
     "start_time": "2025-07-30T07:54:28.706030",
     "status": "completed"
    },
    "tags": []
   },
   "outputs": [
    {
     "name": "stdout",
     "output_type": "stream",
     "text": [
      "İlk rakam için karar skoru: [2164.22030239]\n"
     ]
    }
   ],
   "source": [
    "y_scores = sgd_clf.decision_function([some_digit])\n",
    "print(f\"İlk rakam için karar skoru: {y_scores}\")"
   ]
  },
  {
   "cell_type": "markdown",
   "id": "91d9c31b",
   "metadata": {
    "papermill": {
     "duration": 0.008481,
     "end_time": "2025-07-30T07:54:28.740706",
     "exception": false,
     "start_time": "2025-07-30T07:54:28.732225",
     "status": "completed"
    },
    "tags": []
   },
   "source": [
    "Şimdi bu skorları kullanarak farklı eşik değerleri için hassasiyet ve duyarlılık eğrilerini çizebiliriz:"
   ]
  },
  {
   "cell_type": "code",
   "execution_count": 14,
   "id": "28ef81c8",
   "metadata": {
    "execution": {
     "iopub.execute_input": "2025-07-30T07:54:28.759460Z",
     "iopub.status.busy": "2025-07-30T07:54:28.759123Z",
     "iopub.status.idle": "2025-07-30T07:54:59.941700Z",
     "shell.execute_reply": "2025-07-30T07:54:59.940533Z"
    },
    "papermill": {
     "duration": 31.205062,
     "end_time": "2025-07-30T07:54:59.954335",
     "exception": false,
     "start_time": "2025-07-30T07:54:28.749273",
     "status": "completed"
    },
    "tags": []
   },
   "outputs": [
    {
     "data": {
      "image/png": "[encoded data removed]",
      "text/plain": [
       "<Figure size 1000x600 with 1 Axes>"
      ]
     },
     "metadata": {},
     "output_type": "display_data"
    }
   ],
   "source": [
    "from sklearn.metrics import precision_recall_curve\n",
    "\n",
    "# Tüm eğitim seti için karar skorlarını alalım\n",
    "y_scores_all = cross_val_predict(sgd_clf, X_train, y_train_5, cv=3, method=\"decision_function\")\n",
    "\n",
    "precisions, recalls, thresholds = precision_recall_curve(y_train_5, y_scores_all)\n",
    "\n",
    "# Hassasiyet ve Duyarlılık eğrisini çizdiren fonksiyon\n",
    "def plot_precision_recall_vs_threshold(precisions, recalls, thresholds):\n",
    "    plt.figure(figsize=(10, 6))\n",
    "    plt.plot(thresholds, precisions[:-1], \"b--\", label=\"Hassasiyet\")\n",
    "    plt.plot(thresholds, recalls[:-1], \"g-\", label=\"Duyarlılık\")\n",
    "    plt.xlabel(\"Eşik\")\n",
    "    plt.legend(loc=\"center left\")\n",
    "    plt.grid(True)\n",
    "    plt.title(\"Hassasiyet ve Duyarlılık Karşılaştırması\")\n",
    "    plt.show()\n",
    "\n",
    "plot_precision_recall_vs_threshold(precisions, recalls, thresholds)"
   ]
  },
  {
   "cell_type": "markdown",
   "id": "4cd52c78",
   "metadata": {
    "papermill": {
     "duration": 0.010157,
     "end_time": "2025-07-30T07:54:59.975072",
     "exception": false,
     "start_time": "2025-07-30T07:54:59.964915",
     "status": "completed"
    },
    "tags": []
   },
   "source": [
    "***ROC Eğrisi (Receiver Operating Characteristic Curve)***"
   ]
  },
  {
   "cell_type": "code",
   "execution_count": 15,
   "id": "a3a5293b",
   "metadata": {
    "execution": {
     "iopub.execute_input": "2025-07-30T07:54:59.997587Z",
     "iopub.status.busy": "2025-07-30T07:54:59.997217Z",
     "iopub.status.idle": "2025-07-30T07:55:00.198942Z",
     "shell.execute_reply": "2025-07-30T07:55:00.197965Z"
    },
    "papermill": {
     "duration": 0.215632,
     "end_time": "2025-07-30T07:55:00.201063",
     "exception": false,
     "start_time": "2025-07-30T07:54:59.985431",
     "status": "completed"
    },
    "tags": []
   },
   "outputs": [
    {
     "data": {
      "image/png": "[encoded data removed]",
      "text/plain": [
       "<Figure size 800x600 with 1 Axes>"
      ]
     },
     "metadata": {},
     "output_type": "display_data"
    }
   ],
   "source": [
    "from sklearn.metrics import roc_curve\n",
    "\n",
    "fpr, tpr, thresholds = roc_curve(y_train_5, y_scores_all)\n",
    "\n",
    "def plot_roc_curve(fpr, tpr, label=None):\n",
    "    plt.figure(figsize=(8, 6))\n",
    "    plt.plot(fpr, tpr, linewidth=2, label=label)\n",
    "    plt.plot([0, 1], [0, 1], 'k--') # Rasgele sınıflandırıcının ROC eğrisi\n",
    "    plt.xlabel('Yanlış Pozitif Oranı (FPR)')\n",
    "    plt.ylabel('Doğru Pozitif Oranı (TPR - Duyarlılık)')\n",
    "    plt.grid(True)\n",
    "    plt.title(\"ROC Eğrisi\")\n",
    "    plt.show()\n",
    "\n",
    "plot_roc_curve(fpr, tpr)"
   ]
  },
  {
   "cell_type": "markdown",
   "id": "2bff8edc",
   "metadata": {
    "papermill": {
     "duration": 0.010788,
     "end_time": "2025-07-30T07:55:00.224605",
     "exception": false,
     "start_time": "2025-07-30T07:55:00.213817",
     "status": "completed"
    },
    "tags": []
   },
   "source": [
    "*İyi bir sınıflandırıcı, ROC eğrisinin sol üst köşeye ne kadar yakınsa o kadar iyidir, yani düşük FPR ile yüksek TPR elde eder. Kesik çizgili (k--) eğri, rastgele bir sınıflandırıcının ROC eğrisini temsil eder.*"
   ]
  },
  {
   "cell_type": "markdown",
   "id": "eac7196d",
   "metadata": {
    "papermill": {
     "duration": 0.010552,
     "end_time": "2025-07-30T07:55:00.246397",
     "exception": false,
     "start_time": "2025-07-30T07:55:00.235845",
     "status": "completed"
    },
    "tags": []
   },
   "source": [
    "**ROC AUC Skoru (Area Under the Curve)**\n",
    "ROC eğrisinin altında kalan alan (Area Under the Curve - AUC), sınıflandırıcının genel performansının özet bir ölçümüdür. Mükemmel bir sınıflandırıcının ROC AUC skoru 1'e yakınken, rastgele bir sınıflandırıcının skoru 0.5'tir."
   ]
  },
  {
   "cell_type": "code",
   "execution_count": 16,
   "id": "627c379f",
   "metadata": {
    "execution": {
     "iopub.execute_input": "2025-07-30T07:55:00.268392Z",
     "iopub.status.busy": "2025-07-30T07:55:00.267981Z",
     "iopub.status.idle": "2025-07-30T07:55:00.297523Z",
     "shell.execute_reply": "2025-07-30T07:55:00.296437Z"
    },
    "papermill": {
     "duration": 0.042415,
     "end_time": "2025-07-30T07:55:00.299235",
     "exception": false,
     "start_time": "2025-07-30T07:55:00.256820",
     "status": "completed"
    },
    "tags": []
   },
   "outputs": [
    {
     "name": "stdout",
     "output_type": "stream",
     "text": [
      "ROC AUC Skoru: 0.96\n"
     ]
    }
   ],
   "source": [
    "from sklearn.metrics import roc_auc_score\n",
    "\n",
    "roc_auc = roc_auc_score(y_train_5, y_scores_all)\n",
    "print(f\"ROC AUC Skoru: {roc_auc:.2f}\")"
   ]
  },
  {
   "cell_type": "markdown",
   "id": "c74308be",
   "metadata": {
    "papermill": {
     "duration": 0.010109,
     "end_time": "2025-07-30T07:55:00.319860",
     "exception": false,
     "start_time": "2025-07-30T07:55:00.309751",
     "status": "completed"
    },
    "tags": []
   },
   "source": [
    "*Genel olarak, pozitif sınıfın nadir olduğu veya yanlış pozitiflerin/negatiflerin maliyetinin farklı olduğu durumlarda PR (Hassasiyet-Duyarlılık) eğrisi tercih edilirken, diğer durumlarda ROC eğrisi daha yaygın kullanılır.*"
   ]
  },
  {
   "cell_type": "markdown",
   "id": "39ff6708",
   "metadata": {
    "papermill": {
     "duration": 0.0097,
     "end_time": "2025-07-30T07:55:00.339481",
     "exception": false,
     "start_time": "2025-07-30T07:55:00.329781",
     "status": "completed"
    },
    "tags": []
   },
   "source": [
    "***Çok Sınıflı Sınıflandırma (Multiclass Classification)***"
   ]
  },
  {
   "cell_type": "code",
   "execution_count": 17,
   "id": "aaa92f07",
   "metadata": {
    "execution": {
     "iopub.execute_input": "2025-07-30T07:55:00.361407Z",
     "iopub.status.busy": "2025-07-30T07:55:00.361058Z",
     "iopub.status.idle": "2025-07-30T07:55:17.235521Z",
     "shell.execute_reply": "2025-07-30T07:55:17.234420Z"
    },
    "papermill": {
     "duration": 16.887632,
     "end_time": "2025-07-30T07:55:17.236986",
     "exception": false,
     "start_time": "2025-07-30T07:55:00.349354",
     "status": "completed"
    },
    "tags": []
   },
   "outputs": [
    {
     "name": "stdout",
     "output_type": "stream",
     "text": [
      "Eğitim için kullanılacak örnek sayısı: 6000\n",
      "SGDClassifier modeli eğitiliyor...\n",
      "Eğitim tamamlandı!\n",
      "İlk rakamın çok sınıflı tahmini: [3]\n",
      "Tahmin olasılıkları: [[0.00000000e+000 0.00000000e+000 0.00000000e+000 1.00000000e+000\n",
      "  0.00000000e+000 5.32851982e-193 0.00000000e+000 2.73181792e-279\n",
      "  0.00000000e+000 0.00000000e+000]]\n",
      "En yüksek olasılığa sahip sınıf: 3\n"
     ]
    },
    {
     "name": "stderr",
     "output_type": "stream",
     "text": [
      "/usr/local/lib/python3.11/dist-packages/sklearn/linear_model/_stochastic_gradient.py:702: ConvergenceWarning: Maximum number of iteration reached before convergence. Consider increasing max_iter to improve the fit.\n",
      "  warnings.warn(\n"
     ]
    }
   ],
   "source": [
    "import numpy as np\n",
    "from sklearn.linear_model import SGDClassifier\n",
    "from sklearn.preprocessing import StandardScaler\n",
    "from sklearn.model_selection import train_test_split # Veri örneklemesi için\n",
    "\n",
    "#1. Veriyi Hazırlama (Örnekleme ve Ölçeklendirme)\n",
    "# Burada Kaggle veriyi işlemekte zorlandığı için %10'luk bir örnekle çalışıyoruz\n",
    "X_train_sampled, _, y_train_sampled, _ = train_test_split(\n",
    "    X_train, y_train, train_size=0.1, random_state=42, stratify=y_train\n",
    ")\n",
    "\n",
    "print(f\"Eğitim için kullanılacak örnek sayısı: {X_train_sampled.shape[0]}\")\n",
    "\n",
    "\n",
    "scaler = StandardScaler()\n",
    "X_train_scaled = scaler.fit_transform(X_train_sampled) # Örneklenmiş veriyi ölçeklendiriyoruz\n",
    "\n",
    "# Tahmin için kullanılacak 'some_digit' değerini de ölçeklememiz gerekiyor.\n",
    "# Eğer 'some_digit' tek bir örnekse, reshape ile 2D hale getirmeliyiz.\n",
    "# Eğer 'some_digit' zaten 2D ise (örn: (1, N_FEATURES)), reshape'e gerek yok.\n",
    "some_digit_scaled = scaler.transform(some_digit.reshape(1, -1)) # Tek bir örneği ölçeklendirirken.\n",
    "                                                                # Eğer some_digit zaten 2D ise:\n",
    "                                                                # some_digit_scaled = scaler.transform(some_digit)\n",
    "\n",
    "\n",
    "#2. SGDClassifier Modelini Tanımlama ve Eğitme\n",
    "\n",
    "# SGDClassifier'ı çok sınıflı olarak eğitelim.\n",
    "# max_iter: Maksimum epoch sayısı. Başlangıçta daha düşük bir değer\n",
    "# tol: Durdurma toleransı. Eğer 1e-3'lük bir iyileşme olmazsa durur.\n",
    "# n_jobs: Kullanılabilecek CPU çekirdeği sayısı. -1 tüm çekirdekleri kullanır \n",
    "# loss: 'log_loss' (lojistik regresyon) genellikle iyi sonuç verir ve olasılık tahmini sağlar.\n",
    "#       'hinge' (doğrusal SVM) \n",
    "sgd_clf = SGDClassifier(\n",
    "    max_iter=500,\n",
    "    tol=1e-3,\n",
    "    random_state=42,\n",
    "    n_jobs=-1, # Tüm CPU çekirdeklerini kullan\n",
    "    loss='log_loss' # Daha iyi yakınsama ve olasılık tahmini için\n",
    ")\n",
    "\n",
    "print(\"SGDClassifier modeli eğitiliyor...\")\n",
    "sgd_clf.fit(X_train_scaled, y_train_sampled) # Artık y_train_sampled kullanıyoruz\n",
    "\n",
    "print(\"Eğitim tamamlandı!\")\n",
    "\n",
    "# 3. Tahmin Yapma \n",
    "\n",
    "# Ölçeklendirilmiş ilk rakamı çok sınıflı model ile tahmin edelim\n",
    "prediction_multiclass = sgd_clf.predict(some_digit_scaled)\n",
    "print(f\"İlk rakamın çok sınıflı tahmini: {prediction_multiclass}\")\n",
    "\n",
    "# Tahmin olasılıkları (sadece loss='log_loss' veya 'modified_huber' için)\n",
    "if hasattr(sgd_clf, 'predict_proba'):\n",
    "    prediction_proba = sgd_clf.predict_proba(some_digit_scaled)\n",
    "    print(f\"Tahmin olasılıkları: {prediction_proba}\")\n",
    "    print(f\"En yüksek olasılığa sahip sınıf: {sgd_clf.classes_[np.argmax(prediction_proba)]}\")"
   ]
  },
  {
   "cell_type": "code",
   "execution_count": 18,
   "id": "6bed33df",
   "metadata": {
    "execution": {
     "iopub.execute_input": "2025-07-30T07:55:17.259584Z",
     "iopub.status.busy": "2025-07-30T07:55:17.258651Z",
     "iopub.status.idle": "2025-07-30T07:55:17.266019Z",
     "shell.execute_reply": "2025-07-30T07:55:17.264757Z"
    },
    "papermill": {
     "duration": 0.020474,
     "end_time": "2025-07-30T07:55:17.267879",
     "exception": false,
     "start_time": "2025-07-30T07:55:17.247405",
     "status": "completed"
    },
    "tags": []
   },
   "outputs": [
    {
     "name": "stdout",
     "output_type": "stream",
     "text": [
      "İlk rakam için karar skorları (her sınıf için): [[ -56958.21021276  -80205.52626291   -4902.63691645   28444.90911068\n",
      "  -210059.78831759  -27482.11388195  -81180.86387875  -87772.26211807\n",
      "   -12509.04979853  -71271.84245659]]\n",
      "En yüksek skora sahip sınıf indeksi: 3\n",
      "Tahmin edilen sınıf (scores ile): 3\n"
     ]
    }
   ],
   "source": [
    "some_digit_scores = sgd_clf.decision_function([some_digit])\n",
    "print(f\"İlk rakam için karar skorları (her sınıf için): {some_digit_scores}\")\n",
    "\n",
    "# En yüksek skorun hangi indekse ait olduğunu bulalım\n",
    "print(f\"En yüksek skora sahip sınıf indeksi: {np.argmax(some_digit_scores)}\")\n",
    "print(f\"Tahmin edilen sınıf (scores ile): {sgd_clf.classes_[np.argmax(some_digit_scores)]}\")"
   ]
  },
  {
   "cell_type": "markdown",
   "id": "cdd81970",
   "metadata": {
    "papermill": {
     "duration": 0.010476,
     "end_time": "2025-07-30T07:55:17.290266",
     "exception": false,
     "start_time": "2025-07-30T07:55:17.279790",
     "status": "completed"
    },
    "tags": []
   },
   "source": [
    "Bu, modelin her bir sınıf için ne kadar \"emin\" olduğunu gösterir."
   ]
  },
  {
   "cell_type": "markdown",
   "id": "cb1feefc",
   "metadata": {
    "papermill": {
     "duration": 0.010114,
     "end_time": "2025-07-30T07:55:17.311042",
     "exception": false,
     "start_time": "2025-07-30T07:55:17.300928",
     "status": "completed"
    },
    "tags": []
   },
   "source": [
    "**Çok Sınıflı Sınıflandırıcıları Değerlendirme**"
   ]
  },
  {
   "cell_type": "code",
   "execution_count": 19,
   "id": "7158bfcb",
   "metadata": {
    "execution": {
     "iopub.execute_input": "2025-07-30T07:55:17.333206Z",
     "iopub.status.busy": "2025-07-30T07:55:17.332894Z",
     "iopub.status.idle": "2025-07-30T07:57:08.483932Z",
     "shell.execute_reply": "2025-07-30T07:57:08.483014Z"
    },
    "papermill": {
     "duration": 111.174933,
     "end_time": "2025-07-30T07:57:08.496253",
     "exception": false,
     "start_time": "2025-07-30T07:55:17.321320",
     "status": "completed"
    },
    "tags": []
   },
   "outputs": [
    {
     "name": "stdout",
     "output_type": "stream",
     "text": [
      "Çok sınıflı doğruluk skorları (SGDClassifier): [0.8584  0.8811  0.89065]\n",
      "Ortalama çok sınıflı doğruluk: 0.88\n"
     ]
    }
   ],
   "source": [
    "# Çok sınıflı sınıflandırma için çapraz doğrulama skoru\n",
    "scores_multiclass = cross_val_score(sgd_clf, X_train, y_train, cv=3, scoring=\"accuracy\")\n",
    "print(f\"Çok sınıflı doğruluk skorları (SGDClassifier): {scores_multiclass}\")\n",
    "print(f\"Ortalama çok sınıflı doğruluk: {np.mean(scores_multiclass):.2f}\")"
   ]
  },
  {
   "cell_type": "markdown",
   "id": "aeac9ad1",
   "metadata": {
    "papermill": {
     "duration": 0.010165,
     "end_time": "2025-07-30T07:57:08.517412",
     "exception": false,
     "start_time": "2025-07-30T07:57:08.507247",
     "status": "completed"
    },
    "tags": []
   },
   "source": [
    "**Çok Sınıflı Karmaşıklık Matrisi**"
   ]
  },
  {
   "cell_type": "code",
   "execution_count": 20,
   "id": "697e072e",
   "metadata": {
    "execution": {
     "iopub.execute_input": "2025-07-30T07:57:08.540491Z",
     "iopub.status.busy": "2025-07-30T07:57:08.539600Z",
     "iopub.status.idle": "2025-07-30T07:58:58.969380Z",
     "shell.execute_reply": "2025-07-30T07:58:58.968073Z"
    },
    "papermill": {
     "duration": 110.453433,
     "end_time": "2025-07-30T07:58:58.981280",
     "exception": false,
     "start_time": "2025-07-30T07:57:08.527847",
     "status": "completed"
    },
    "tags": []
   },
   "outputs": [
    {
     "name": "stdout",
     "output_type": "stream",
     "text": [
      "Çok Sınıflı Karmaşıklık Matrisi (SGDClassifier):\n",
      "[[5619    1   57   10    8   59   64    4   94    7]\n",
      " [   3 6377   83   14    8   69   18   11  144   15]\n",
      " [  41   52 5356   68   56   35  129   45  153   23]\n",
      " [  50   34  362 4823   11  416   33   42  278   82]\n",
      " [  24   29   70   10 5025   56   88   30  274  236]\n",
      " [  90   20   96  121   55 4468  141   16  355   59]\n",
      " [  44    8   70    5   27  113 5569    1   79    2]\n",
      " [  48   30  166   24   70   55    2 5537   73  260]\n",
      " [  43   96  217  106   21  302   56   20 4881  109]\n",
      " [  44   26   56   56  245  149    5  204  216 4948]]\n"
     ]
    }
   ],
   "source": [
    "# Çok sınıflı karmaşıklık matrisi\n",
    "y_train_pred_multiclass = cross_val_predict(sgd_clf, X_train, y_train, cv=3)\n",
    "conf_matrix_multiclass = confusion_matrix(y_train, y_train_pred_multiclass)\n",
    "\n",
    "print(\"Çok Sınıflı Karmaşıklık Matrisi (SGDClassifier):\")\n",
    "print(conf_matrix_multiclass)"
   ]
  },
  {
   "cell_type": "markdown",
   "id": "9f89c8cb",
   "metadata": {
    "papermill": {
     "duration": 0.011484,
     "end_time": "2025-07-30T07:58:59.003869",
     "exception": false,
     "start_time": "2025-07-30T07:58:58.992385",
     "status": "completed"
    },
    "tags": []
   },
   "source": [
    "Karmaşıklık matrisini görselleştirmek, modelin hangi rakamları birbirine karıştırdığını anlamak için çok faydalıdır. Örneğin, 8'leri 3'lerle veya 7'leri 9'larla karıştırıp karıştırmadığı gibi."
   ]
  },
  {
   "cell_type": "code",
   "execution_count": 21,
   "id": "ba99db4d",
   "metadata": {
    "execution": {
     "iopub.execute_input": "2025-07-30T07:58:59.026089Z",
     "iopub.status.busy": "2025-07-30T07:58:59.025751Z",
     "iopub.status.idle": "2025-07-30T07:58:59.334855Z",
     "shell.execute_reply": "2025-07-30T07:58:59.333773Z"
    },
    "papermill": {
     "duration": 0.32198,
     "end_time": "2025-07-30T07:58:59.336352",
     "exception": false,
     "start_time": "2025-07-30T07:58:59.014372",
     "status": "completed"
    },
    "tags": []
   },
   "outputs": [
    {
     "data": {
      "text/plain": [
       "<Figure size 1000x800 with 0 Axes>"
      ]
     },
     "metadata": {},
     "output_type": "display_data"
    },
    {
     "data": {
      "image/png": "[encoded data removed]",
      "text/plain": [
       "<Figure size 480x480 with 2 Axes>"
      ]
     },
     "metadata": {},
     "output_type": "display_data"
    }
   ],
   "source": [
    "plt.figure(figsize=(10, 8))\n",
    "plt.matshow(conf_matrix_multiclass, cmap=plt.cm.gray)\n",
    "plt.title(\"Çok Sınıflı Karmaşıklık Matrisi Görselleştirme (SGDClassifier)\")\n",
    "plt.colorbar() # Renk skalasını göster\n",
    "plt.xlabel(\"Tahmin Edilen Sınıf\")\n",
    "plt.ylabel(\"Gerçek Sınıf\")\n",
    "plt.show()"
   ]
  },
  {
   "cell_type": "markdown",
   "id": "4d91cfbc",
   "metadata": {
    "papermill": {
     "duration": 0.010941,
     "end_time": "2025-07-30T07:58:59.359029",
     "exception": false,
     "start_time": "2025-07-30T07:58:59.348088",
     "status": "completed"
    },
    "tags": []
   },
   "source": [
    "Daha iyi bir görselleştirme için, hata oranlarını (yanlış tahminlerin oranlarını) gösteren normalize edilmiş bir karmaşıklık matrisi de oluşturabiliriz:"
   ]
  },
  {
   "cell_type": "code",
   "execution_count": 22,
   "id": "b1c546fc",
   "metadata": {
    "execution": {
     "iopub.execute_input": "2025-07-30T07:58:59.383738Z",
     "iopub.status.busy": "2025-07-30T07:58:59.383375Z",
     "iopub.status.idle": "2025-07-30T07:58:59.685712Z",
     "shell.execute_reply": "2025-07-30T07:58:59.684426Z"
    },
    "papermill": {
     "duration": 0.317035,
     "end_time": "2025-07-30T07:58:59.687399",
     "exception": false,
     "start_time": "2025-07-30T07:58:59.370364",
     "status": "completed"
    },
    "tags": []
   },
   "outputs": [
    {
     "data": {
      "text/plain": [
       "<Figure size 1000x800 with 0 Axes>"
      ]
     },
     "metadata": {},
     "output_type": "display_data"
    },
    {
     "data": {
      "image/png": "[encoded data removed]",
      "text/plain": [
       "<Figure size 480x480 with 2 Axes>"
      ]
     },
     "metadata": {},
     "output_type": "display_data"
    }
   ],
   "source": [
    "row_sums = conf_matrix_multiclass.sum(axis=1, keepdims=True)\n",
    "norm_conf_mx = conf_matrix_multiclass / row_sums\n",
    "\n",
    "# Köşegen üzerindeki doğru tahminleri sıfırlayarak sadece hataları gösterelim\n",
    "np.fill_diagonal(norm_conf_mx, 0)\n",
    "\n",
    "plt.figure(figsize=(10, 8))\n",
    "plt.matshow(norm_conf_mx, cmap=plt.cm.gray)\n",
    "plt.title(\"Normalize Edilmiş Karmaşıklık Matrisi (Hata Oranları - SGDClassifier)\")\n",
    "plt.colorbar()\n",
    "plt.xlabel(\"Tahmin Edilen Sınıf\")\n",
    "plt.ylabel(\"Gerçek Sınıf\")\n",
    "plt.show()"
   ]
  },
  {
   "cell_type": "markdown",
   "id": "e2fb2029",
   "metadata": {
    "papermill": {
     "duration": 0.012434,
     "end_time": "2025-07-30T07:58:59.713160",
     "exception": false,
     "start_time": "2025-07-30T07:58:59.700726",
     "status": "completed"
    },
    "tags": []
   },
   "source": [
    "Ek Sınıflandırıcılar: RandomForestClassifier"
   ]
  },
  {
   "cell_type": "code",
   "execution_count": 23,
   "id": "7826a42a",
   "metadata": {
    "execution": {
     "iopub.execute_input": "2025-07-30T07:58:59.740577Z",
     "iopub.status.busy": "2025-07-30T07:58:59.740211Z",
     "iopub.status.idle": "2025-07-30T07:59:48.976431Z",
     "shell.execute_reply": "2025-07-30T07:59:48.975444Z"
    },
    "papermill": {
     "duration": 49.263671,
     "end_time": "2025-07-30T07:59:48.988868",
     "exception": false,
     "start_time": "2025-07-30T07:58:59.725197",
     "status": "completed"
    },
    "tags": []
   },
   "outputs": [
    {
     "name": "stdout",
     "output_type": "stream",
     "text": [
      "RandomForestClassifier ile ilk rakamın tahmini: [5]\n",
      "RandomForestClassifier ile ilk rakam için sınıf olasılıkları: [[0.   0.   0.01 0.08 0.   0.9  0.   0.   0.   0.01]]\n"
     ]
    }
   ],
   "source": [
    "from sklearn.ensemble import RandomForestClassifier\n",
    "\n",
    "forest_clf = RandomForestClassifier(random_state=42)\n",
    "forest_clf.fit(X_train, y_train)\n",
    "\n",
    "# RandomForestClassifier ile ilk rakamın tahminini yapalım\n",
    "prediction_forest = forest_clf.predict([some_digit])\n",
    "print(f\"RandomForestClassifier ile ilk rakamın tahmini: {prediction_forest}\")\n",
    "\n",
    "# RandomForestClassifier'ın doğrudan olasılıkları döndürdüğünü görelim\n",
    "# predict_proba, her sınıf için olasılıkları verir.\n",
    "print(f\"RandomForestClassifier ile ilk rakam için sınıf olasılıkları: {forest_clf.predict_proba([some_digit])}\")"
   ]
  },
  {
   "cell_type": "markdown",
   "id": "47af5bfd",
   "metadata": {
    "papermill": {
     "duration": 0.011951,
     "end_time": "2025-07-30T07:59:49.013388",
     "exception": false,
     "start_time": "2025-07-30T07:59:49.001437",
     "status": "completed"
    },
    "tags": []
   },
   "source": [
    "RandomForestClassifier'ın predict_proba() metodu, her sınıf için bir olasılık döndürür, bu da decision_function() metodunun aksine daha sezgiseldir.\n",
    "\n",
    "RandomForestClassifier'ın performansını da değerlendirelim:"
   ]
  },
  {
   "cell_type": "code",
   "execution_count": 24,
   "id": "3d910a30",
   "metadata": {
    "execution": {
     "iopub.execute_input": "2025-07-30T07:59:49.039254Z",
     "iopub.status.busy": "2025-07-30T07:59:49.038916Z",
     "iopub.status.idle": "2025-07-30T08:02:50.915104Z",
     "shell.execute_reply": "2025-07-30T08:02:50.913812Z"
    },
    "papermill": {
     "duration": 181.903164,
     "end_time": "2025-07-30T08:02:50.928678",
     "exception": false,
     "start_time": "2025-07-30T07:59:49.025514",
     "status": "completed"
    },
    "tags": []
   },
   "outputs": [
    {
     "name": "stdout",
     "output_type": "stream",
     "text": [
      "RandomForestClassifier Karmaşıklık Matrisi:\n",
      "[[5840    1    8    2    4    9   20    1   35    3]\n",
      " [   1 6635   43   11   13    5    6   13   12    3]\n",
      " [  27   12 5749   30   32    4   20   37   41    6]\n",
      " [   7    7   91 5811    3   63    7   49   61   32]\n",
      " [  12   13   14    1 5645    0   28   14   17   98]\n",
      " [  20    9    9   64   12 5198   53    6   31   19]\n",
      " [  26   11    5    0   12   46 5803    0   15    0]\n",
      " [   4   24   58    6   37    1    0 6037   11   87]\n",
      " [   9   35   44   52   26   52   27    5 5525   76]\n",
      " [  21   10   14   76   75   15    3   58   45 5632]]\n",
      "RandomForestClassifier Doğruluk skorları: [0.9646  0.96255 0.9666 ]\n",
      "RandomForestClassifier Ortalama doğruluk: 0.96\n"
     ]
    }
   ],
   "source": [
    "y_train_pred_forest = cross_val_predict(forest_clf, X_train, y_train, cv=3)\n",
    "conf_matrix_forest = confusion_matrix(y_train, y_train_pred_forest)\n",
    "\n",
    "print(\"RandomForestClassifier Karmaşıklık Matrisi:\")\n",
    "print(conf_matrix_forest)\n",
    "\n",
    "# Genel doğruluk skoru\n",
    "scores_forest = cross_val_score(forest_clf, X_train, y_train, cv=3, scoring=\"accuracy\")\n",
    "print(f\"RandomForestClassifier Doğruluk skorları: {scores_forest}\")\n",
    "print(f\"RandomForestClassifier Ortalama doğruluk: {np.mean(scores_forest):.2f}\")"
   ]
  },
  {
   "cell_type": "markdown",
   "id": "61178767",
   "metadata": {
    "papermill": {
     "duration": 0.014623,
     "end_time": "2025-07-30T08:02:50.956959",
     "exception": false,
     "start_time": "2025-07-30T08:02:50.942336",
     "status": "completed"
    },
    "tags": []
   },
   "source": [
    "Genellikle RandomForestClassifier, SGDClassifier'dan daha iyi performans gösterir (daha yüksek doğruluk ve daha \"temiz\" bir karmaşıklık matrisi). Bu, daha karmaşık modellerin daha iyi performans gösterebileceği ancak aynı zamanda daha fazla hesaplama gücü gerektirebileceği bir örnektir."
   ]
  },
  {
   "cell_type": "markdown",
   "id": "4870525c",
   "metadata": {
    "papermill": {
     "duration": 0.013163,
     "end_time": "2025-07-30T08:02:50.984206",
     "exception": false,
     "start_time": "2025-07-30T08:02:50.971043",
     "status": "completed"
    },
    "tags": []
   },
   "source": [
    "**Ölçekleme (Scaling)**\n",
    "Makine öğrenimi algoritmalarının çoğu, giriş özniteliklerinin ölçeği farklı olduğunda iyi performans göstermez. Örneğin, piksel yoğunlukları 0'dan 255'e kadar değişirken, başka bir öznitelik 0'dan 1'e kadar değişiyorsa, büyük ölçekli öznitelikler modele daha fazla etki edebilir. Bu nedenle, verileri ölçeklemek önemlidir.\n",
    "\n",
    "Standartlaştırma (Standardization) veya Normalleştirme (Normalization) gibi teknikler kullanırız. MNIST gibi piksel yoğunlukları içeren veri setlerinde bile, ölçekleme çoğu model için faydalı olabilir. Özellikle SGDClassifier gibi gradyan tabanlı algoritmalar bu ölçek farklılıklarına karşı hassastır."
   ]
  },
  {
   "cell_type": "code",
   "execution_count": 25,
   "id": "83af1f1e",
   "metadata": {
    "execution": {
     "iopub.execute_input": "2025-07-30T08:02:51.013493Z",
     "iopub.status.busy": "2025-07-30T08:02:51.012974Z",
     "iopub.status.idle": "2025-07-30T08:23:10.985656Z",
     "shell.execute_reply": "2025-07-30T08:23:10.984734Z"
    },
    "papermill": {
     "duration": 1220.002746,
     "end_time": "2025-07-30T08:23:11.001801",
     "exception": false,
     "start_time": "2025-07-30T08:02:50.999055",
     "status": "completed"
    },
    "tags": []
   },
   "outputs": [
    {
     "name": "stdout",
     "output_type": "stream",
     "text": [
      "Ölçeklenmiş SGDClassifier doğruluk skorları: [0.8983 0.891  0.9018]\n",
      "Ölçeklenmiş SGDClassifier Ortalama doğruluk: 0.90\n"
     ]
    }
   ],
   "source": [
    "from sklearn.preprocessing import StandardScaler\n",
    "\n",
    "scaler = StandardScaler()\n",
    "# Eğitim setini ölçekleyelim. fit_transform hem öğrenir hem uygular.\n",
    "X_train_scaled = scaler.fit_transform(X_train.astype(np.float64))\n",
    "# Test setini de aynı scaler ile ölçeklemeyi unutmayın!\n",
    "X_test_scaled = scaler.transform(X_test.astype(np.float64))\n",
    "\n",
    "# Ölçeklenmiş veri üzerinde SGDClassifier'ı tekrar eğitelim\n",
    "sgd_clf_scaled = SGDClassifier(random_state=42)\n",
    "sgd_clf_scaled.fit(X_train_scaled, y_train)\n",
    "\n",
    "scores_sgd_scaled = cross_val_score(sgd_clf_scaled, X_train_scaled, y_train, cv=3, scoring=\"accuracy\")\n",
    "print(f\"Ölçeklenmiş SGDClassifier doğruluk skorları: {scores_sgd_scaled}\")\n",
    "print(f\"Ölçeklenmiş SGDClassifier Ortalama doğruluk: {np.mean(scores_sgd_scaled):.2f}\")"
   ]
  }
 ],
 "metadata": {
  "kaggle": {
   "accelerator": "none",
   "dataSources": [
    {
     "datasetId": 27352,
     "sourceId": 34877,
     "sourceType": "datasetVersion"
    }
   ],
   "dockerImageVersionId": 31089,
   "isGpuEnabled": false,
   "isInternetEnabled": true,
   "language": "python",
   "sourceType": "notebook"
  },
  "kernelspec": {
   "display_name": "Python 3",
   "language": "python",
   "name": "python3"
  },
  "language_info": {
   "codemirror_mode": {
    "name": "ipython",
    "version": 3
   },
   "file_extension": ".py",
   "mimetype": "text/x-python",
   "name": "python",
   "nbconvert_exporter": "python",
   "pygments_lexer": "ipython3",
   "version": "3.11.13"
  },
  "papermill": {
   "default_parameters": {},
   "duration": 1846.609292,
   "end_time": "2025-07-30T08:23:11.840400",
   "environment_variables": {},
   "exception": null,
   "input_path": "__notebook__.ipynb",
   "output_path": "__notebook__.ipynb",
   "parameters": {},
   "start_time": "2025-07-30T07:52:25.231108",
   "version": "2.6.0"
  }
 },
 "nbformat": 4,
 "nbformat_minor": 5
}
